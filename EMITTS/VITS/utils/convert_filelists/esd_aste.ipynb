{
 "cells": [
  {
   "cell_type": "code",
   "execution_count": 29,
   "metadata": {},
   "outputs": [
    {
     "data": {
      "text/plain": [
       "17500"
      ]
     },
     "execution_count": 29,
     "metadata": {},
     "output_type": "execute_result"
    }
   ],
   "source": [
    "import os\n",
    "import pandas as pd\n",
    "\n",
    "def find_file(path, suffix):\n",
    "    result = []\n",
    "    for root, dirs, files in os.walk(path):\n",
    "        for name in files:\n",
    "            if name.endswith(suffix):\n",
    "                result.append(os.path.join(root, name))\n",
    "    return result\n",
    "# find_file('/path/to/ESD/en', '.txt')\n",
    "# len(find_file('/path/to/ESD/en', '.wav'))\n",
    "wav_files = find_file('/path/to/ESD/en', '.wav')\n",
    "\n",
    "wav_dict = {}\n",
    "for wav_file in wav_files:\n",
    "    wav_dict[wav_file.split('/')[-1][:-4]] = wav_file\n",
    "# len(wav_dict)"
   ]
  },
  {
   "cell_type": "code",
   "execution_count": 93,
   "metadata": {},
   "outputs": [
    {
     "data": {
      "text/plain": [
       "(1750,\n",
       " 14000,\n",
       "         filename                                      text emotiontag\n",
       " 0    0013_000459                   If they mother knew it.      Angry\n",
       " 1    0020_000366  Mister share man, I move for a division.      Angry\n",
       " 2    0019_000366  Mister share man, I move for a division.      Angry\n",
       " 3    0020_000478        Put that rude grasshopper in jail!      Angry\n",
       " 4    0019_000608     Mum shuts one's mouth up, doesn't it.      Angry\n",
       " ..           ...                                       ...        ...\n",
       " 345  0013_001446   They'd never know I'd regular ran away.   Surprise\n",
       " 346  0013_001481     And I never had a whooping cough why.   Surprise\n",
       " 347  0013_001645               Do you think it's a woozle?   Surprise\n",
       " 348  0011_001561                 That's a full grown colt.   Surprise\n",
       " 349  0019_001425        She is now choosing skirt to wear.   Surprise\n",
       " \n",
       " [1750 rows x 3 columns])"
      ]
     },
     "execution_count": 93,
     "metadata": {},
     "output_type": "execute_result"
    }
   ],
   "source": [
    "from utils.utils import load_filelist\n",
    "import pandas as pd\n",
    "import numpy as np\n",
    "\n",
    "df_total = pd.DataFrame(columns=['filename', 'text', 'emotiontag'])\n",
    "for file in find_file('/path/to/ESD/en', '.txt'):\n",
    "    # print(file)\n",
    "    filename_text_emtiontag = load_filelist(file, split='\\t')\n",
    "    df = pd.DataFrame(filename_text_emtiontag, columns=['filename', 'text', 'emotiontag'])\n",
    "    df_total = pd.concat([df_total, df])\n",
    "# df_total\n",
    "emotion_tags = ['Angry', 'Happy', 'Neutral', 'Sad', 'Surprise']\n",
    "train_df = pd.DataFrame(columns=['filename', 'text', 'emotiontag'])\n",
    "val_df = pd.DataFrame(columns=['filename', 'text', 'emotiontag'])\n",
    "test_df = pd.DataFrame(columns=['filename', 'text', 'emotiontag'])\n",
    "\n",
    "for emotion_tag in emotion_tags:\n",
    "    df_e = df_total[df_total['emotiontag'] == emotion_tag].to_numpy()\n",
    "    # df_e random train:val:test 8:1:1\n",
    "    np.random.seed(42)\n",
    "    np.random.shuffle(df_e)\n",
    "    df_tr = pd.DataFrame(df_e[:int(len(df_e)*0.8)], columns=['filename', 'text', 'emotiontag'])\n",
    "    df_va = pd.DataFrame(df_e[int(len(df_e)*0.8):int(len(df_e)*0.9)], columns=['filename', 'text', 'emotiontag'])\n",
    "    df_te = pd.DataFrame(df_e[int(len(df_e)*0.9):], columns=['filename', 'text', 'emotiontag'])\n",
    "    train_df = pd.concat([train_df, df_tr])\n",
    "    val_df = pd.concat([val_df, df_va])\n",
    "    test_df = pd.concat([test_df, df_te])\n",
    "    # break\n",
    "\n",
    "# len(test_df), len(train_df), test_df"
   ]
  },
  {
   "cell_type": "code",
   "execution_count": 98,
   "metadata": {},
   "outputs": [],
   "source": [
    "# create filelist\n",
    "train_val_test = \"train\"\n",
    "df_w = train_df\n",
    "new_filelist = f\"/path/to/filelist.txt\"\n",
    "with open(new_filelist, \"w\", encoding=\"utf-8\") as f:\n",
    "    for index, row in df_w.iterrows():\n",
    "        wav_path = wav_dict[row['filename']]\n",
    "        sid = int(row['filename'].split('_')[0]) - 10\n",
    "        text = row['text']\n",
    "        efeature_path = '/path/to/mmefeature/' + row['emotiontag'].lower() + '.pt'\n",
    "        # print(wav_path, sid, text, efeature_path)\n",
    "        # break\n",
    "        f.write(f\"{wav_path}|{str(sid)}|{text}|{efeature_path}\\n\")"
   ]
  },
  {
   "cell_type": "code",
   "execution_count": null,
   "metadata": {},
   "outputs": [],
   "source": []
  }
 ],
 "metadata": {
  "kernelspec": {
   "display_name": "etts-HZcXHSP8",
   "language": "python",
   "name": "python3"
  },
  "language_info": {
   "codemirror_mode": {
    "name": "ipython",
    "version": 3
   },
   "file_extension": ".py",
   "mimetype": "text/x-python",
   "name": "python",
   "nbconvert_exporter": "python",
   "pygments_lexer": "ipython3",
   "version": "3.8.10"
  },
  "orig_nbformat": 4
 },
 "nbformat": 4,
 "nbformat_minor": 2
}
