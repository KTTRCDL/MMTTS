{
 "cells": [
  {
   "cell_type": "markdown",
   "metadata": {},
   "source": [
    "## Extract Multi-modal Emotion Features"
   ]
  },
  {
   "cell_type": "markdown",
   "metadata": {},
   "source": [
    "config setting"
   ]
  },
  {
   "cell_type": "code",
   "execution_count": null,
   "metadata": {},
   "outputs": [],
   "source": [
    "import clip\n",
    "import torch\n",
    "\n",
    "device = \"cuda\" if torch.cuda.is_available() else \"cpu\"\n",
    "model, preprocess = clip.load(\"path/to/ckpt\", device=device)\n",
    "emo_feature_save_path = \"path/to/emo_feature_save\""
   ]
  },
  {
   "cell_type": "markdown",
   "metadata": {},
   "source": [
    "prompt setting"
   ]
  },
  {
   "cell_type": "code",
   "execution_count": 2,
   "metadata": {},
   "outputs": [],
   "source": [
    "# labels = [\"normal neutral\",\"normal calm\",\"normal happy\",\"normal sad\",\"normal angry\",\"normal fearful\",\"normal disgust\",\"normal surprised\",\"strong clam\",\"strong happy\",\"strong sad\",\"strong angry\",\"strong fearful\",\"strong disgust\",\"strong surprised\"]\n",
    "labels = [\"neutral\", \"happy\", \"sad\", \"angry\", \"surprise\"]\n",
    "\n",
    "\n",
    "# prompt = [f'talk in {label} emotion', for label in labels]\n",
    "prompt = [f'A person speaking with a feeling of {label}' for label in labels]"
   ]
  },
  {
   "cell_type": "markdown",
   "metadata": {},
   "source": [
    "extract & save mmefeature"
   ]
  },
  {
   "cell_type": "code",
   "execution_count": null,
   "metadata": {},
   "outputs": [],
   "source": [
    "emo_prompt = clip.tokenize(prompt).to(device)\n",
    "\n",
    "with torch.no_grad():\n",
    "    emo_prompt_features = model.encode_text(emo_prompt)\n",
    "    emo_prompt_features /= emo_prompt_features.norm(dim=-1, keepdim=True)\n",
    "\n",
    "emo_prompt_features = emo_prompt_features.split(1, dim=0)\n",
    "\n",
    "for i in range(len(emo_prompt_features)):\n",
    "    # torch.save(emo_prompt_features[i].squeeze(), f\"{emo_feature_save_path}/{tag[i].split(' ')[2]}and{tag[i].split(' ')[4]}.pt\")\n",
    "    torch.save(emo_prompt_features[i].squeeze(), f\"{emo_feature_save_path}/{labels[i].split(' ')[2]}.pt\")\n"
   ]
  },
  {
   "cell_type": "markdown",
   "metadata": {},
   "source": [
    "check feature shape"
   ]
  },
  {
   "cell_type": "code",
   "execution_count": null,
   "metadata": {},
   "outputs": [],
   "source": [
    "import os\n",
    "for file in os.listdir(emo_feature_save_path):\n",
    "    efeature = torch.load(emo_feature_save_path+file, map_location=torch.device('cpu'))\n",
    "    if efeature.shape[0] != 512:\n",
    "        print(file)"
   ]
  }
 ],
 "metadata": {
  "kernelspec": {
   "display_name": "MMTTS",
   "language": "python",
   "name": "python3"
  },
  "language_info": {
   "codemirror_mode": {
    "name": "ipython",
    "version": 3
   },
   "file_extension": ".py",
   "mimetype": "text/x-python",
   "name": "python",
   "nbconvert_exporter": "python",
   "pygments_lexer": "ipython3",
   "version": "3.12.2"
  }
 },
 "nbformat": 4,
 "nbformat_minor": 2
}
